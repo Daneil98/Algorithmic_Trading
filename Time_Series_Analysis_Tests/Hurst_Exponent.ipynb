{
 "cells": [
  {
   "cell_type": "code",
   "execution_count": null,
   "id": "f98091a3",
   "metadata": {},
   "outputs": [],
   "source": [
    "# HURST EXPONENT TEST\n",
    "\"\"\"\n",
    "The goal of the Hurst Exponent is to provide us with a scalar value that will help us to identify\n",
    "(within the limits of statistical estimation) whether a series is mean reverting, random walking or trending.\n",
    "\n",
    "This is done by using the variance of a log price series to assess the rate of diffusive behaviour.\n",
    "\n",
    "CONDITIONS FOR COMMODITY BEHAVIOUR\n",
    "• H < 0:5 - The time series is mean reverting\n",
    "• H = 0:5 - The time series is a Geometric Brownian Motion\n",
    "• H > 0:5 - The time series is trending\n",
    "\n",
    "The Hurst Exponent also describes the extent to which a series behaves in the manner categorised. \n",
    "For instance, a value of H near 0 is a highly mean reverting series, \n",
    "while for H near 1 the series is strongly trending.\n",
    "\n",
    "NOTE: if H > 0.55:\n",
    "    print(\"Strong trending behavior\")\n",
    "elif H > 0.5:\n",
    "    print(\"Weak trending behavior\") \n",
    "elif H == 0.5:\n",
    "    print(\"Perfect geometric Brownian motion\")\n",
    "elif H > 0.45:\n",
    "    print(\"Weak mean reversion (your case)\")\n",
    "else:\n",
    "    print(\"Strong mean reversion\")\n",
    "\"\"\""
   ]
  },
  {
   "cell_type": "code",
   "execution_count": null,
   "id": "1c3a2070",
   "metadata": {},
   "outputs": [],
   "source": [
    "#Import Necessary Modules\n",
    "from __future__ import print_function\n",
    "\n",
    "from scipy import stats\n",
    "\n",
    "from datetime import datetime, timedelta\n",
    "\n",
    "import MetaTrader5 as mt5\n",
    "from config import *\n",
    "import pandas as pd\n",
    "import plotly.express as px\n",
    "import numpy as np"
   ]
  },
  {
   "cell_type": "code",
   "execution_count": 62,
   "id": "c7845628",
   "metadata": {},
   "outputs": [
    {
     "name": "stdout",
     "output_type": "stream",
     "text": [
      "Connection to MetaTrader5 established\n"
     ]
    }
   ],
   "source": [
    "#Check connection to MT5\n",
    "result = mt5.initialize()\n",
    "if login_number == mt5.account_info().login and result is True:\n",
    "    print(\"Connection to MetaTrader5 established\")\n",
    "else:\n",
    "    print(\"Failed to connect at account #{}, error code: {}\".format(login_number, mt5.last_error()))\n",
    "    mt5.shutdown()"
   ]
  },
  {
   "cell_type": "code",
   "execution_count": 69,
   "id": "42ca81f6",
   "metadata": {},
   "outputs": [
    {
     "data": {
      "application/vnd.plotly.v1+json": {
       "config": {
        "plotlyServerURL": "https://plot.ly"
       },
       "data": [
        {
         "hovertemplate": "time=%{x}<br>close=%{y}<extra></extra>",
         "legendgroup": "",
         "line": {
          "color": "#636efa",
          "dash": "solid"
         },
         "marker": {
          "symbol": "circle"
         },
         "mode": "lines",
         "name": "",
         "orientation": "v",
         "showlegend": false,
         "type": "scatter",
         "x": {
          "bdata": "gAmXZgBbmGaArJlmAKGdZoDynmYARKBmgJWhZgDnomaA26ZmAC2oZoB+qWYA0KpmgCGsZgAWsGaAZ7FmALmyZoAKtGYAXLVmgFC5ZgCiumaA87tmAEW9ZoCWvmYAi8JmgNzDZgAuxWaAf8ZmANHHZoDFy2YAF81mgGjOZgC6z2aAC9FmgFHWZgCj12aA9NhmAEbaZoA63mYAjN9mgN3gZgAv4maAgONmAHXnZoDG6GYAGOpmgGnrZgC77GaAr/BmAAHyZoBS82YApPRmgPX1ZgDq+WaAO/tmAI38ZoDe/WYAMP9mgCQDZwB2BGeAxwVnABkHZ4BqCGcAXwxngLANZwACD2eAUxBnAKURZ4CZFWcA6xZngDwYZwCOGWeA3xpnANQeZ4AlIGcAdyFngMgiZwAaJGeADihnAGApZ4CxKmcAAyxngFQtZwBJMWeAmjJnAOwzZ4A9NWcAjzZngIM6ZwDVO2eAJj1nAHg+Z4DJP2cAvkNngA9FZwBhRmcABElngPhMZwBKTmeAm09nAO1QZ4A+UmcAM1ZngIRXZwDWWGeAJ1pnAHlbZ4BtX2cAv2BngBBiZwBiY2eAs2RnAKhoZwDubWeA4nFnANd1Z4Aod2cAHXtngG58ZwDAfWcAY4BngFeEZwCphWeA+oZnAEyIZ4CdiWeA445nADWQZ4CGkWcA2JJngMyWZwAemGeAb5lnAMGaZ4ASnGcAB6BngFihZwCqomeA+6NnAE2lZ4BBqWcAk6pngOSrZwA2rWeAh65ngM2zZwAftWeAcLZnAMK3Z4C2u2cACL1ngFm+ZwCrv2eA/MBnAPHEZ4BCxmcAlMdngOXIZwA3ymeAK85nAH3PZ4DO0GcAINJngHHTZwBm12eAt9hnAAnaZ4Ba22cArNxngKDgZwDy4WeAQ+NnAJXkZ4Dm5WcA2+lngCzrZwB+7GeAz+1nACHvZ4AV82cAZ/RngLj1ZwAK92eAW/hnAFD8Z4Ch/WcA8/5ngEQAaICKBWgA3AZogC0IaAB/CWiA0ApoAMUOaIAWEGgAaBFogLkSaAALFGiA/xdoAFEZaICiGmgA9BtogEUdaAA6IWiAiyJoAN0jaIAuJWgAgCZogHQqaADGK2iAFy1oAGkuaIC6L2iAADVoAFI2aICjN2gA9ThogOk8aAA7PmiAjD9oAN5AaIAvQmgAJEZogHVHaADHSGiAGEpoAGpLaIBeT2gAsFBogAFSaABTU2iApFRoAJlYaIDqWWgAPFtogI1caADfXWiA02FoACVjaIB2ZGgAyGVogBlnaAAOa2iAX2xoALFtaIACb2gAVHBogEh0aACadWiA63ZoAD14aICOeWgAg31ogNR+aAAmgGiAd4FoAMmCaIC9hmgAD4hogGCJaACyimiAA4xoAPiPaIBJkWgAm5JogOyTaAA+lWiAMploAISaaIDVm2gAJ51ogHieaABtomiAvqNoABClaIBhpmgAs6dogKeraAD5rGiASq5oAJyvaIDtsGiAM7ZoAIW3aIDWuGgAKLpogBy+aABuv2iAv8BoABHCaIBiw2gAV8dogKjIaAD6yWiAS8toAJ3MaICR0GgA49FogDTTaACG1GiA19VoAMzZaIAd22gAb9xogMDdaAAS32iABuNoAFjkaA==",
          "dtype": "i4"
         },
         "xaxis": "x",
         "y": {
          "bdata": "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",
          "dtype": "f8"
         },
         "yaxis": "y"
        }
       ],
       "layout": {
        "legend": {
         "tracegroupgap": 0
        },
        "template": {
         "data": {
          "bar": [
           {
            "error_x": {
             "color": "#2a3f5f"
            },
            "error_y": {
             "color": "#2a3f5f"
            },
            "marker": {
             "line": {
              "color": "#E5ECF6",
              "width": 0.5
             },
             "pattern": {
              "fillmode": "overlay",
              "size": 10,
              "solidity": 0.2
             }
            },
            "type": "bar"
           }
          ],
          "barpolar": [
           {
            "marker": {
             "line": {
              "color": "#E5ECF6",
              "width": 0.5
             },
             "pattern": {
              "fillmode": "overlay",
              "size": 10,
              "solidity": 0.2
             }
            },
            "type": "barpolar"
           }
          ],
          "carpet": [
           {
            "aaxis": {
             "endlinecolor": "#2a3f5f",
             "gridcolor": "white",
             "linecolor": "white",
             "minorgridcolor": "white",
             "startlinecolor": "#2a3f5f"
            },
            "baxis": {
             "endlinecolor": "#2a3f5f",
             "gridcolor": "white",
             "linecolor": "white",
             "minorgridcolor": "white",
             "startlinecolor": "#2a3f5f"
            },
            "type": "carpet"
           }
          ],
          "choropleth": [
           {
            "colorbar": {
             "outlinewidth": 0,
             "ticks": ""
            },
            "type": "choropleth"
           }
          ],
          "contour": [
           {
            "colorbar": {
             "outlinewidth": 0,
             "ticks": ""
            },
            "colorscale": [
             [
              0,
              "#0d0887"
             ],
             [
              0.1111111111111111,
              "#46039f"
             ],
             [
              0.2222222222222222,
              "#7201a8"
             ],
             [
              0.3333333333333333,
              "#9c179e"
             ],
             [
              0.4444444444444444,
              "#bd3786"
             ],
             [
              0.5555555555555556,
              "#d8576b"
             ],
             [
              0.6666666666666666,
              "#ed7953"
             ],
             [
              0.7777777777777778,
              "#fb9f3a"
             ],
             [
              0.8888888888888888,
              "#fdca26"
             ],
             [
              1,
              "#f0f921"
             ]
            ],
            "type": "contour"
           }
          ],
          "contourcarpet": [
           {
            "colorbar": {
             "outlinewidth": 0,
             "ticks": ""
            },
            "type": "contourcarpet"
           }
          ],
          "heatmap": [
           {
            "colorbar": {
             "outlinewidth": 0,
             "ticks": ""
            },
            "colorscale": [
             [
              0,
              "#0d0887"
             ],
             [
              0.1111111111111111,
              "#46039f"
             ],
             [
              0.2222222222222222,
              "#7201a8"
             ],
             [
              0.3333333333333333,
              "#9c179e"
             ],
             [
              0.4444444444444444,
              "#bd3786"
             ],
             [
              0.5555555555555556,
              "#d8576b"
             ],
             [
              0.6666666666666666,
              "#ed7953"
             ],
             [
              0.7777777777777778,
              "#fb9f3a"
             ],
             [
              0.8888888888888888,
              "#fdca26"
             ],
             [
              1,
              "#f0f921"
             ]
            ],
            "type": "heatmap"
           }
          ],
          "histogram": [
           {
            "marker": {
             "pattern": {
              "fillmode": "overlay",
              "size": 10,
              "solidity": 0.2
             }
            },
            "type": "histogram"
           }
          ],
          "histogram2d": [
           {
            "colorbar": {
             "outlinewidth": 0,
             "ticks": ""
            },
            "colorscale": [
             [
              0,
              "#0d0887"
             ],
             [
              0.1111111111111111,
              "#46039f"
             ],
             [
              0.2222222222222222,
              "#7201a8"
             ],
             [
              0.3333333333333333,
              "#9c179e"
             ],
             [
              0.4444444444444444,
              "#bd3786"
             ],
             [
              0.5555555555555556,
              "#d8576b"
             ],
             [
              0.6666666666666666,
              "#ed7953"
             ],
             [
              0.7777777777777778,
              "#fb9f3a"
             ],
             [
              0.8888888888888888,
              "#fdca26"
             ],
             [
              1,
              "#f0f921"
             ]
            ],
            "type": "histogram2d"
           }
          ],
          "histogram2dcontour": [
           {
            "colorbar": {
             "outlinewidth": 0,
             "ticks": ""
            },
            "colorscale": [
             [
              0,
              "#0d0887"
             ],
             [
              0.1111111111111111,
              "#46039f"
             ],
             [
              0.2222222222222222,
              "#7201a8"
             ],
             [
              0.3333333333333333,
              "#9c179e"
             ],
             [
              0.4444444444444444,
              "#bd3786"
             ],
             [
              0.5555555555555556,
              "#d8576b"
             ],
             [
              0.6666666666666666,
              "#ed7953"
             ],
             [
              0.7777777777777778,
              "#fb9f3a"
             ],
             [
              0.8888888888888888,
              "#fdca26"
             ],
             [
              1,
              "#f0f921"
             ]
            ],
            "type": "histogram2dcontour"
           }
          ],
          "mesh3d": [
           {
            "colorbar": {
             "outlinewidth": 0,
             "ticks": ""
            },
            "type": "mesh3d"
           }
          ],
          "parcoords": [
           {
            "line": {
             "colorbar": {
              "outlinewidth": 0,
              "ticks": ""
             }
            },
            "type": "parcoords"
           }
          ],
          "pie": [
           {
            "automargin": true,
            "type": "pie"
           }
          ],
          "scatter": [
           {
            "fillpattern": {
             "fillmode": "overlay",
             "size": 10,
             "solidity": 0.2
            },
            "type": "scatter"
           }
          ],
          "scatter3d": [
           {
            "line": {
             "colorbar": {
              "outlinewidth": 0,
              "ticks": ""
             }
            },
            "marker": {
             "colorbar": {
              "outlinewidth": 0,
              "ticks": ""
             }
            },
            "type": "scatter3d"
           }
          ],
          "scattercarpet": [
           {
            "marker": {
             "colorbar": {
              "outlinewidth": 0,
              "ticks": ""
             }
            },
            "type": "scattercarpet"
           }
          ],
          "scattergeo": [
           {
            "marker": {
             "colorbar": {
              "outlinewidth": 0,
              "ticks": ""
             }
            },
            "type": "scattergeo"
           }
          ],
          "scattergl": [
           {
            "marker": {
             "colorbar": {
              "outlinewidth": 0,
              "ticks": ""
             }
            },
            "type": "scattergl"
           }
          ],
          "scattermap": [
           {
            "marker": {
             "colorbar": {
              "outlinewidth": 0,
              "ticks": ""
             }
            },
            "type": "scattermap"
           }
          ],
          "scattermapbox": [
           {
            "marker": {
             "colorbar": {
              "outlinewidth": 0,
              "ticks": ""
             }
            },
            "type": "scattermapbox"
           }
          ],
          "scatterpolar": [
           {
            "marker": {
             "colorbar": {
              "outlinewidth": 0,
              "ticks": ""
             }
            },
            "type": "scatterpolar"
           }
          ],
          "scatterpolargl": [
           {
            "marker": {
             "colorbar": {
              "outlinewidth": 0,
              "ticks": ""
             }
            },
            "type": "scatterpolargl"
           }
          ],
          "scatterternary": [
           {
            "marker": {
             "colorbar": {
              "outlinewidth": 0,
              "ticks": ""
             }
            },
            "type": "scatterternary"
           }
          ],
          "surface": [
           {
            "colorbar": {
             "outlinewidth": 0,
             "ticks": ""
            },
            "colorscale": [
             [
              0,
              "#0d0887"
             ],
             [
              0.1111111111111111,
              "#46039f"
             ],
             [
              0.2222222222222222,
              "#7201a8"
             ],
             [
              0.3333333333333333,
              "#9c179e"
             ],
             [
              0.4444444444444444,
              "#bd3786"
             ],
             [
              0.5555555555555556,
              "#d8576b"
             ],
             [
              0.6666666666666666,
              "#ed7953"
             ],
             [
              0.7777777777777778,
              "#fb9f3a"
             ],
             [
              0.8888888888888888,
              "#fdca26"
             ],
             [
              1,
              "#f0f921"
             ]
            ],
            "type": "surface"
           }
          ],
          "table": [
           {
            "cells": {
             "fill": {
              "color": "#EBF0F8"
             },
             "line": {
              "color": "white"
             }
            },
            "header": {
             "fill": {
              "color": "#C8D4E3"
             },
             "line": {
              "color": "white"
             }
            },
            "type": "table"
           }
          ]
         },
         "layout": {
          "annotationdefaults": {
           "arrowcolor": "#2a3f5f",
           "arrowhead": 0,
           "arrowwidth": 1
          },
          "autotypenumbers": "strict",
          "coloraxis": {
           "colorbar": {
            "outlinewidth": 0,
            "ticks": ""
           }
          },
          "colorscale": {
           "diverging": [
            [
             0,
             "#8e0152"
            ],
            [
             0.1,
             "#c51b7d"
            ],
            [
             0.2,
             "#de77ae"
            ],
            [
             0.3,
             "#f1b6da"
            ],
            [
             0.4,
             "#fde0ef"
            ],
            [
             0.5,
             "#f7f7f7"
            ],
            [
             0.6,
             "#e6f5d0"
            ],
            [
             0.7,
             "#b8e186"
            ],
            [
             0.8,
             "#7fbc41"
            ],
            [
             0.9,
             "#4d9221"
            ],
            [
             1,
             "#276419"
            ]
           ],
           "sequential": [
            [
             0,
             "#0d0887"
            ],
            [
             0.1111111111111111,
             "#46039f"
            ],
            [
             0.2222222222222222,
             "#7201a8"
            ],
            [
             0.3333333333333333,
             "#9c179e"
            ],
            [
             0.4444444444444444,
             "#bd3786"
            ],
            [
             0.5555555555555556,
             "#d8576b"
            ],
            [
             0.6666666666666666,
             "#ed7953"
            ],
            [
             0.7777777777777778,
             "#fb9f3a"
            ],
            [
             0.8888888888888888,
             "#fdca26"
            ],
            [
             1,
             "#f0f921"
            ]
           ],
           "sequentialminus": [
            [
             0,
             "#0d0887"
            ],
            [
             0.1111111111111111,
             "#46039f"
            ],
            [
             0.2222222222222222,
             "#7201a8"
            ],
            [
             0.3333333333333333,
             "#9c179e"
            ],
            [
             0.4444444444444444,
             "#bd3786"
            ],
            [
             0.5555555555555556,
             "#d8576b"
            ],
            [
             0.6666666666666666,
             "#ed7953"
            ],
            [
             0.7777777777777778,
             "#fb9f3a"
            ],
            [
             0.8888888888888888,
             "#fdca26"
            ],
            [
             1,
             "#f0f921"
            ]
           ]
          },
          "colorway": [
           "#636efa",
           "#EF553B",
           "#00cc96",
           "#ab63fa",
           "#FFA15A",
           "#19d3f3",
           "#FF6692",
           "#B6E880",
           "#FF97FF",
           "#FECB52"
          ],
          "font": {
           "color": "#2a3f5f"
          },
          "geo": {
           "bgcolor": "white",
           "lakecolor": "white",
           "landcolor": "#E5ECF6",
           "showlakes": true,
           "showland": true,
           "subunitcolor": "white"
          },
          "hoverlabel": {
           "align": "left"
          },
          "hovermode": "closest",
          "mapbox": {
           "style": "light"
          },
          "paper_bgcolor": "white",
          "plot_bgcolor": "#E5ECF6",
          "polar": {
           "angularaxis": {
            "gridcolor": "white",
            "linecolor": "white",
            "ticks": ""
           },
           "bgcolor": "#E5ECF6",
           "radialaxis": {
            "gridcolor": "white",
            "linecolor": "white",
            "ticks": ""
           }
          },
          "scene": {
           "xaxis": {
            "backgroundcolor": "#E5ECF6",
            "gridcolor": "white",
            "gridwidth": 2,
            "linecolor": "white",
            "showbackground": true,
            "ticks": "",
            "zerolinecolor": "white"
           },
           "yaxis": {
            "backgroundcolor": "#E5ECF6",
            "gridcolor": "white",
            "gridwidth": 2,
            "linecolor": "white",
            "showbackground": true,
            "ticks": "",
            "zerolinecolor": "white"
           },
           "zaxis": {
            "backgroundcolor": "#E5ECF6",
            "gridcolor": "white",
            "gridwidth": 2,
            "linecolor": "white",
            "showbackground": true,
            "ticks": "",
            "zerolinecolor": "white"
           }
          },
          "shapedefaults": {
           "line": {
            "color": "#2a3f5f"
           }
          },
          "ternary": {
           "aaxis": {
            "gridcolor": "white",
            "linecolor": "white",
            "ticks": ""
           },
           "baxis": {
            "gridcolor": "white",
            "linecolor": "white",
            "ticks": ""
           },
           "bgcolor": "#E5ECF6",
           "caxis": {
            "gridcolor": "white",
            "linecolor": "white",
            "ticks": ""
           }
          },
          "title": {
           "x": 0.05
          },
          "xaxis": {
           "automargin": true,
           "gridcolor": "white",
           "linecolor": "white",
           "ticks": "",
           "title": {
            "standoff": 15
           },
           "zerolinecolor": "white",
           "zerolinewidth": 2
          },
          "yaxis": {
           "automargin": true,
           "gridcolor": "white",
           "linecolor": "white",
           "ticks": "",
           "title": {
            "standoff": 15
           },
           "zerolinecolor": "white",
           "zerolinewidth": 2
          }
         }
        },
        "title": {
         "text": "AMAZN.NAS Closing Prices - Last 730 Days"
        },
        "xaxis": {
         "anchor": "y",
         "domain": [
          0,
          1
         ],
         "title": {
          "text": "time"
         }
        },
        "yaxis": {
         "anchor": "x",
         "domain": [
          0,
          1
         ],
         "title": {
          "text": "close"
         }
        }
       }
      }
     },
     "metadata": {},
     "output_type": "display_data"
    },
    {
     "name": "stdout",
     "output_type": "stream",
     "text": [
      "[187.85 183.69 183.13 182.45 186.17 180.78 179.73 182.48 183.15 181.62\n",
      " 187.03 183.36 167.64 160.5  161.95 162.6  165.88 166.89 166.74 170.26\n",
      " 170.01 177.53 176.99 177.96 178.8  180.04 176.17 176.95 175.48 172.99\n",
      " 170.69 172.1  178.51 175.95 173.2  177.67 171.34 175.38 179.61 184.66\n",
      " 186.93 186.39 184.71 186.66 186.22 189.85 191.58 194.01 193.99 192.46\n",
      " 191.21 187.78 186.09 185.09 184.69 182.02 186.46 180.83 182.55 185.14\n",
      " 186.54 188.71 187.52 187.65 186.88 187.56 188.86 189.05 189.65 184.73\n",
      " 186.32 187.83 188.33 190.81 192.74 186.03 197.83 195.75 199.39 207.15\n",
      " 210.07 208.12 206.79 208.8  214.07 211.59 202.47 201.63 204.54 202.81\n",
      " 198.27 196.99 201.35 207.8  205.66 207.83 210.53 213.33 218.01 220.46\n",
      " 226.92 225.94 224.93 230.31 229.   227.35 232.87 231.03 220.55 223.29\n",
      " 225.06 224.82 223.63 221.2  220.13 224.15 227.45 222.03 222.2  218.78\n",
      " 218.29 217.59 223.34 220.48 225.83 230.55 234.98 235.3  234.76 235.48\n",
      " 238.18 236.92 234.44 237.68 237.43 242.12 236.17 238.63 229.22 233.11\n",
      " 232.71 228.86 230.3  228.58 226.49 226.65 222.84 216.43 212.65 212.66\n",
      " 214.2  208.49 212.05 204.83 203.88 208.41 200.6  199.18 194.42 196.54\n",
      " 199.02 193.7  197.92 195.69 192.69 195.45 194.91 196.14 202.96 205.69\n",
      " 201.05 201.24 192.51 190.07 191.97 196.08 178.01 170.71 175.45 171.06\n",
      " 191.11 180.88 184.52 181.92 179.56 174.26 172.63 167.25 173.12 180.78\n",
      " 186.54 188.87 187.62 187.24 184.33 189.71 189.83 186.17 184.97 188.79\n",
      " 192.03 193.14 208.67 211.24 210.17 204.87 205.56 206.11 204.05 201.12\n",
      " 202.97 200.82 205.88 204.67 205.38 204.72 206.59 205.69 207.25 207.69\n",
      " 213.45 216.85 217.46 213.07 213.13 211.94 215.99 214.8  212.51 212.51\n",
      " 209.6  208.39 212.78 211.77 216.96 223.04 219.53 220.44 219.81 223.15\n",
      " 223.15 223.36 219.38 222.39 222.13 224.96 225.65 226.26 223.1  223.75\n",
      " 226.11 229.17 227.46 228.01 232.13 231.45 232.71 230.89 230.   234.26\n",
      " 214.77 211.57 213.73 222.36 223.05 222.54 221.28 221.36 224.5  230.9\n",
      " 231.04 231.44 227.91 223.71 221.72 228.94 227.9  228.68 229.01 231.58\n",
      " 228.67 225.3  225.83 235.56 232.2  235.72 238.29 230.24 229.78 228.06\n",
      " 231.24 233.93 231.14 231.23 231.32 227.56 220.6  220.17 218.16 219.69\n",
      " 222.08 219.56 220.6  222.39 219.34 220.75 221.66]\n"
     ]
    }
   ],
   "source": [
    "#Get Amazon OHLC Data from today back 730days\n",
    "#OHLC DATA\n",
    "rates = mt5.copy_rates_range(\"AMZN.NAS\", mt5.TIMEFRAME_D1, datetime.now() - timedelta(days=730), datetime.now())\n",
    "\n",
    "ohlc_data = pd.DataFrame(rates)\n",
    "\n",
    "fig = px.line(ohlc_data, x=ohlc_data['time'], y=ohlc_data['close'], title='AMAZN.NAS Closing Prices - Last 730 Days')\n",
    "fig.show()\n",
    "\n",
    "data = ohlc_data['close'].values\n",
    "ohlc_data\n",
    "print(data)"
   ]
  },
  {
   "cell_type": "code",
   "execution_count": null,
   "id": "63dfefb8",
   "metadata": {},
   "outputs": [
    {
     "name": "stdout",
     "output_type": "stream",
     "text": [
      "Hurst(AMZN):     0.4657451364791901 \n"
     ]
    }
   ],
   "source": [
    "def hurst(ts):\n",
    "    \"\"\"\n",
    "    Returns the Hurst exponent of a time series 'ts'\n",
    "    \"\"\"\n",
    "    # Ensure we have a numpy array and remove any NaN/inf values\n",
    "    ts = np.array(ts, dtype=float)\n",
    "    ts = ts[np.isfinite(ts)]\n",
    "    \n",
    "    if len(ts) < 100:\n",
    "        raise ValueError(\"Time series too short\")\n",
    "    \n",
    "    lags = range(2, min(100, len(ts)//2))  # Adjust lags based on data length\n",
    "    tau = []\n",
    "    valid_lags = []\n",
    "    \n",
    "    for lag in lags:\n",
    "        if lag >= len(ts):\n",
    "            continue\n",
    "            \n",
    "        # Calculate differences\n",
    "        differences = ts[lag:] - ts[:-lag]\n",
    "        std_diff = np.std(differences, ddof=1)\n",
    "        \n",
    "        # Only include if standard deviation is positive\n",
    "        if std_diff > 1e-10:  # Small threshold to avoid numerical issues\n",
    "            tau.append(np.sqrt(std_diff))\n",
    "            valid_lags.append(lag)\n",
    "    \n",
    "    if len(tau) < 2:\n",
    "        return np.nan\n",
    "    \n",
    "    # Use valid data for regression\n",
    "    slope, intercept, r_value, p_value, std_err = stats.linregress(\n",
    "        np.log(valid_lags), \n",
    "        np.log(tau)\n",
    "    )\n",
    "    \n",
    "    return slope * 2.0\n",
    "\n",
    "print(\"Hurst(AMZN):     %s \" % hurst(data))\n",
    "\n",
    "\"\"\"AMAZN had 0.4657451364791901 (calculated, txtbook had 0.454337476553) Interestingly, Amazon has H also close to 0.5 indicating that it is similar to a GBM,\n",
    "at least for the sample period we're making use of!\"\"\""
   ]
  }
 ],
 "metadata": {
  "kernelspec": {
   "display_name": ".algvenv (3.9.13)",
   "language": "python",
   "name": "python3"
  },
  "language_info": {
   "codemirror_mode": {
    "name": "ipython",
    "version": 3
   },
   "file_extension": ".py",
   "mimetype": "text/x-python",
   "name": "python",
   "nbconvert_exporter": "python",
   "pygments_lexer": "ipython3",
   "version": "3.9.13"
  }
 },
 "nbformat": 4,
 "nbformat_minor": 5
}
