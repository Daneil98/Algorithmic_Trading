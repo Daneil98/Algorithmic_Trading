{
 "cells": [
  {
   "cell_type": "code",
   "execution_count": null,
   "id": "5b4faeb8",
   "metadata": {},
   "outputs": [],
   "source": [
    "#THIS NOTEBOOK SHOWS HOW TO CARRY OUT THE AUGMENTED DICKEY FULLER TEST\n",
    "\n",
    "\"\"\"\n",
    "The ADF test makes use of the fact that if a price series possesses mean reversion, then the next\n",
    "price level will be proportional to the current price level.\n",
    "\"\"\""
   ]
  },
  {
   "cell_type": "code",
   "execution_count": null,
   "id": "27cb6d82",
   "metadata": {},
   "outputs": [],
   "source": [
    "#Import Necessary Modules\n",
    "from __future__ import print_function\n",
    "\n",
    "import statsmodels.tsa.stattools as ts \n",
    "\n",
    "from datetime import datetime, timedelta\n",
    "\n",
    "import MetaTrader5 as mt5\n",
    "from config import *\n",
    "import pandas as pd\n",
    "import plotly.express as px\n"
   ]
  },
  {
   "cell_type": "code",
   "execution_count": null,
   "id": "0fdf8b23",
   "metadata": {},
   "outputs": [],
   "source": [
    "#Check connection to MT5\n",
    "result = mt5.initialize()\n",
    "if login_number == mt5.account_info().login and result is True:\n",
    "    print(\"Connection to MetaTrader5 established\")\n",
    "else:\n",
    "    print(\"Failed to connect at account #{}, error code: {}\".format(login_number, mt5.last_error()))\n",
    "    mt5.shutdown()"
   ]
  },
  {
   "cell_type": "code",
   "execution_count": null,
   "id": "fae056b8",
   "metadata": {},
   "outputs": [],
   "source": [
    "#Get Amazon OHLC Data from today back 730days\n",
    "#OHLC DATA\n",
    "rates = mt5.copy_rates_range(\"BTCUSD\", mt5.TIMEFRAME_D1, datetime.now() - timedelta(days=730), datetime.now())\n",
    "\n",
    "ohlc_data = pd.DataFrame(rates)\n",
    "\n",
    "fig = px.line(ohlc_data, x=ohlc_data['time'], y=ohlc_data['close'], title='EURUSD.i Closing Prices - Last 730 Days')\n",
    "fig.show()\n",
    "\n",
    "ohlc_data"
   ]
  },
  {
   "cell_type": "code",
   "execution_count": null,
   "id": "007a55f8",
   "metadata": {},
   "outputs": [],
   "source": [
    "# Output the results of the Augmented Dickey-Fuller test for Amazon\n",
    "# with a lag order value of 1\n",
    "\n",
    "\n",
    "\"\"\"\n",
    "The first value is the calculated test-statistic, while the second value is the p-value. \n",
    "The fourth is thenumber of data points in the sample. \n",
    "The fifth value, the dictionary, contains the critical values of the test-statistic at the 1, 5 and 10 percent values respectively.\n",
    "\n",
    "\n",
    "Since the calculated value of the test statistic is larger than any of the critical values at the 1,\n",
    "5 or 10 percent levels, we cannot reject the null hypothesis of gamma = 0 and thus we are unlikely to\n",
    "have found a mean reverting time series. This is in line with our tuition as most equities behave\n",
    "akin to Geometric Brownian Motion (GBM), i.e. a random walk.\n",
    "\"\"\"\n",
    "ts.adfuller(ohlc_data['close'], 1)"
   ]
  }
 ],
 "metadata": {
  "kernelspec": {
   "display_name": ".algvenv (3.9.13)",
   "language": "python",
   "name": "python3"
  },
  "language_info": {
   "codemirror_mode": {
    "name": "ipython",
    "version": 3
   },
   "file_extension": ".py",
   "mimetype": "text/x-python",
   "name": "python",
   "nbconvert_exporter": "python",
   "pygments_lexer": "ipython3",
   "version": "3.9.13"
  }
 },
 "nbformat": 4,
 "nbformat_minor": 5
}
